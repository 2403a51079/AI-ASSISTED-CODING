{
  "nbformat": 4,
  "nbformat_minor": 0,
  "metadata": {
    "colab": {
      "provenance": [],
      "authorship_tag": "ABX9TyOIxk+W3wH/mz21uO4jAXkP",
      "include_colab_link": true
    },
    "kernelspec": {
      "name": "python3",
      "display_name": "Python 3"
    },
    "language_info": {
      "name": "python"
    }
  },
  "cells": [
    {
      "cell_type": "markdown",
      "metadata": {
        "id": "view-in-github",
        "colab_type": "text"
      },
      "source": [
        "<a href=\"https://colab.research.google.com/github/2403a51079/AI-ASSISTED-CODING/blob/main/Untitled6.ipynb\" target=\"_parent\"><img src=\"https://colab.research.google.com/assets/colab-badge.svg\" alt=\"Open In Colab\"/></a>"
      ]
    },
    {
      "cell_type": "code",
      "execution_count": null,
      "metadata": {
        "id": "zswepSj_k-DE"
      },
      "outputs": [],
      "source": []
    },
    {
      "cell_type": "code",
      "metadata": {
        "colab": {
          "base_uri": "https://localhost:8080/"
        },
        "id": "ed506ae0",
        "outputId": "8fb02eff-2c05-4dcb-a939-12256fb32871"
      },
      "source": [
        "def sum_even_odd(numbers):\n",
        "  \"\"\"Calculates the sum of even and odd numbers in a list.\n",
        "\n",
        "  Args:\n",
        "    numbers: A list of numbers.\n",
        "\n",
        "  Returns:\n",
        "    A tuple containing the sum of even numbers and the sum of odd numbers.\n",
        "  \"\"\"\n",
        "  even_sum = 0\n",
        "  odd_sum = 0\n",
        "  for number in numbers:\n",
        "    if number % 2 == 0:\n",
        "      even_sum += number\n",
        "    else:\n",
        "      odd_sum += number\n",
        "  return even_sum, odd_sum\n",
        "\n",
        "# Get input from the user\n",
        "input_list_str = input(\"Enter a list of numbers separated by spaces: \")\n",
        "\n",
        "# Convert the input string to a list of integers\n",
        "try:\n",
        "  input_list = [int(x) for x in input_list_str.split()]\n",
        "  even_sum, odd_sum = sum_even_odd(input_list)\n",
        "  print(f\"Sum of even numbers: {even_sum}\")\n",
        "  print(f\"Sum of odd numbers: {odd_sum}\")\n",
        "except ValueError:\n",
        "  print(\"Invalid input. Please enter a list of numbers separated by spaces.\")"
      ],
      "execution_count": 2,
      "outputs": [
        {
          "output_type": "stream",
          "name": "stdout",
          "text": [
            "Enter a list of numbers separated by spaces: 2 8 9 4 5 6 5 4 5\n",
            "Sum of even numbers: 24\n",
            "Sum of odd numbers: 24\n"
          ]
        }
      ]
    },
    {
      "cell_type": "code",
      "metadata": {
        "colab": {
          "base_uri": "https://localhost:8080/"
        },
        "id": "852f5de2",
        "outputId": "f4cd2f21-328c-4fc3-9fd4-b1d0e0235b05"
      },
      "source": [
        "# Store student objects in a list\n",
        "student_list = [student1, student2, student3, student4, student5]\n",
        "\n",
        "print(\"\\nAccessing details from the list:\")\n",
        "# Iterate through the list and display details of each student\n",
        "for student in student_list:\n",
        "  student.display_details()\n",
        "  print(\"-\" * 20) # Print a separator line"
      ],
      "execution_count": 11,
      "outputs": [
        {
          "output_type": "stream",
          "name": "stdout",
          "text": [
            "\n",
            "Accessing details from the list:\n",
            "Student Details:\n",
            "Name: Alice\n",
            "Roll No.: SRU101\n",
            "Hostel Status: resident\n",
            "Fee Paid: 5000\n",
            "Course: Undecided\n",
            "--------------------\n",
            "Student Details:\n",
            "Name: Bob\n",
            "Roll No.: SRU102\n",
            "Hostel Status: day scholar\n",
            "Fee Paid: 2000\n",
            "Course: Electrical Engineering\n",
            "--------------------\n",
            "Student Details:\n",
            "Name: Charlie\n",
            "Roll No.: SRU103\n",
            "Hostel Status: resident\n",
            "Fee Paid: 0\n",
            "--------------------\n",
            "Student Details:\n",
            "Name: David\n",
            "Roll No.: SRU104\n",
            "Hostel Status: day scholar\n",
            "Fee Paid: 0\n",
            "--------------------\n",
            "Student Details:\n",
            "Name: Eve\n",
            "Roll No.: SRU105\n",
            "Hostel Status: resident\n",
            "Fee Paid: 0\n",
            "--------------------\n"
          ]
        }
      ]
    },
    {
      "cell_type": "code",
      "metadata": {
        "colab": {
          "base_uri": "https://localhost:8080/"
        },
        "id": "ddd7a3f1",
        "outputId": "49369693-656b-4fc2-b663-a95d3d1f482f"
      },
      "source": [
        "class sru_student:\n",
        "  \"\"\"Represents a student at SRU.\"\"\"\n",
        "\n",
        "  def __init__(self, name, roll_no, hostel_status, course=\"Undecided\"):\n",
        "    \"\"\"Initializes a new sru_student object.\n",
        "\n",
        "    Args:\n",
        "      name: The name of the student.\n",
        "      roll_no: The roll number of the student.\n",
        "      hostel_status: The hostel status of the student (e.g., 'resident', 'day scholar').\n",
        "      course: The course the student is enrolled in (defaults to \"Undecided\").\n",
        "    \"\"\"\n",
        "    self.name = name\n",
        "    self.roll_no = roll_no\n",
        "    self.hostel_status = hostel_status\n",
        "    self.fee_paid = 0  # Initialize fee_paid to 0\n",
        "    self.course = course # Initialize the course attribute\n",
        "\n",
        "  def fee_update(self, amount):\n",
        "    \"\"\"Updates the fee paid by the student.\n",
        "\n",
        "    Args:\n",
        "      amount: The amount of fee paid.\n",
        "    \"\"\"\n",
        "    self.fee_paid += amount\n",
        "    print(f\"Fee updated for {self.name}. Total fee paid: {self.fee_paid}\")\n",
        "\n",
        "  def update_course(self, new_course):\n",
        "    \"\"\"Updates the course the student is enrolled in.\n",
        "\n",
        "    Args:\n",
        "      new_course: The new course name.\n",
        "    \"\"\"\n",
        "    self.course = new_course\n",
        "    print(f\"Course updated for {self.name} to {self.course}\")\n",
        "\n",
        "\n",
        "  def display_details(self):\n",
        "    \"\"\"Displays the details of the student.\"\"\"\n",
        "    print(\"Student Details:\")\n",
        "    print(f\"Name: {self.name}\")\n",
        "    print(f\"Roll No.: {self.roll_no}\")\n",
        "    print(f\"Hostel Status: {self.hostel_status}\")\n",
        "    print(f\"Fee Paid: {self.fee_paid}\")\n",
        "    print(f\"Course: {self.course}\")\n",
        "\n",
        "# Example usage:\n",
        "student1 = sru_student(\"Alice\", \"SRU101\", \"resident\")\n",
        "student1.display_details()\n",
        "student1.fee_update(5000)\n",
        "student1.display_details()\n",
        "\n",
        "student2 = sru_student(\"Bob\", \"SRU102\", \"day scholar\", \"Computer Science\")\n",
        "student2.display_details()\n",
        "student2.fee_update(2000)\n",
        "student2.display_details()\n",
        "student2.update_course(\"Electrical Engineering\")\n",
        "student2.display_details()"
      ],
      "execution_count": 10,
      "outputs": [
        {
          "output_type": "stream",
          "name": "stdout",
          "text": [
            "Student Details:\n",
            "Name: Alice\n",
            "Roll No.: SRU101\n",
            "Hostel Status: resident\n",
            "Fee Paid: 0\n",
            "Course: Undecided\n",
            "Fee updated for Alice. Total fee paid: 5000\n",
            "Student Details:\n",
            "Name: Alice\n",
            "Roll No.: SRU101\n",
            "Hostel Status: resident\n",
            "Fee Paid: 5000\n",
            "Course: Undecided\n",
            "Student Details:\n",
            "Name: Bob\n",
            "Roll No.: SRU102\n",
            "Hostel Status: day scholar\n",
            "Fee Paid: 0\n",
            "Course: Computer Science\n",
            "Fee updated for Bob. Total fee paid: 2000\n",
            "Student Details:\n",
            "Name: Bob\n",
            "Roll No.: SRU102\n",
            "Hostel Status: day scholar\n",
            "Fee Paid: 2000\n",
            "Course: Computer Science\n",
            "Course updated for Bob to Electrical Engineering\n",
            "Student Details:\n",
            "Name: Bob\n",
            "Roll No.: SRU102\n",
            "Hostel Status: day scholar\n",
            "Fee Paid: 2000\n",
            "Course: Electrical Engineering\n"
          ]
        }
      ]
    },
    {
      "cell_type": "code",
      "metadata": {
        "colab": {
          "base_uri": "https://localhost:8080/"
        },
        "id": "0ba3efd9",
        "outputId": "24241e3b-ccaa-4ce4-f4e1-e88450e52fe1"
      },
      "source": [
        "# Create more sru_student objects\n",
        "student3 = sru_student(\"Charlie\", \"SRU103\", \"resident\")  # Create student3 object with name, roll no, and hostel status\n",
        "student4 = sru_student(\"David\", \"SRU104\", \"day scholar\") # Create student4 object with name, roll no, and hostel status\n",
        "student5 = sru_student(\"Eve\", \"SRU105\", \"resident\")     # Create student5 object with name, roll no, and hostel status\n",
        "\n",
        "print(\"Created additional student objects:\") # Print a header indicating the display of new student details\n",
        "student3.display_details()  # Display the details of student3\n",
        "student4.display_details()  # Display the details of student4\n",
        "student5.display_details()  # Display the details of student5"
      ],
      "execution_count": 9,
      "outputs": [
        {
          "output_type": "stream",
          "name": "stdout",
          "text": [
            "Created additional student objects:\n",
            "Student Details:\n",
            "Name: Charlie\n",
            "Roll No.: SRU103\n",
            "Hostel Status: resident\n",
            "Fee Paid: 0\n",
            "Student Details:\n",
            "Name: David\n",
            "Roll No.: SRU104\n",
            "Hostel Status: day scholar\n",
            "Fee Paid: 0\n",
            "Student Details:\n",
            "Name: Eve\n",
            "Roll No.: SRU105\n",
            "Hostel Status: resident\n",
            "Fee Paid: 0\n"
          ]
        }
      ]
    }
  ]
}